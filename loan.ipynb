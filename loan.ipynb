{
 "cells": [
  {
   "cell_type": "code",
   "execution_count": 1,
   "metadata": {},
   "outputs": [],
   "source": [
    "import pandas as pd\n",
    "import numpy as np                     \n",
    "import seaborn as sns                  \n",
    "import matplotlib.pyplot as plt        \n",
    "from sklearn import svm\n",
    "from sklearn.svm import SVC\n",
    "from scipy.io import loadmat\n",
    "import warnings\n",
    "warnings.filterwarnings(\"ignore\")"
   ]
  },
  {
   "cell_type": "code",
   "execution_count": 2,
   "metadata": {},
   "outputs": [],
   "source": [
    "data_train = pd.read_csv('train_LoanPrediction.csv')\n",
    "data_test = pd.read_csv('test_LoanPrediction.csv')\n"
   ]
  },
  {
   "cell_type": "code",
   "execution_count": 3,
   "metadata": {},
   "outputs": [
    {
     "name": "stdout",
     "output_type": "stream",
     "text": [
      "Missing values for train data \n",
      " ------------------------\n",
      " Loan_ID               0\n",
      "Gender               13\n",
      "Married               3\n",
      "Dependents           15\n",
      "Education             0\n",
      "Self_Employed        32\n",
      "ApplicantIncome       0\n",
      "CoapplicantIncome     0\n",
      "LoanAmount           22\n",
      "Loan_Amount_Term     14\n",
      "Credit_History       50\n",
      "Property_Area         0\n",
      "Loan_Status           0\n",
      "dtype: int64\n",
      "Missing values for test data \n",
      " ------------------------\n",
      " Loan_ID               0\n",
      "Gender               11\n",
      "Married               0\n",
      "Dependents           10\n",
      "Education             0\n",
      "Self_Employed        23\n",
      "ApplicantIncome       0\n",
      "CoapplicantIncome     0\n",
      "LoanAmount            5\n",
      "Loan_Amount_Term      6\n",
      "Credit_History       29\n",
      "Property_Area         0\n",
      "dtype: int64\n"
     ]
    }
   ],
   "source": [
    "print('Missing values for train data \\n ------------------------\\n', data_train.isnull().sum())\n",
    "\n",
    "print('Missing values for test data \\n ------------------------\\n', data_test.isnull().sum())"
   ]
  },
  {
   "cell_type": "code",
   "execution_count": 4,
   "metadata": {},
   "outputs": [
    {
     "name": "stdout",
     "output_type": "stream",
     "text": [
      "Male      489\n",
      "Female    112\n",
      "Name: Gender, dtype: int64\n",
      "unique values in gender feature (2,)\n",
      "Male ratio  0.8136439267886856\n"
     ]
    }
   ],
   "source": [
    "# Train Categorical Variables Missisng values\n",
    "print(data_train['Gender'].value_counts())\n",
    "gender = data_train['Gender'].value_counts()\n",
    "print('unique values in gender feature', gender.shape)\n",
    "print('Male ratio ', gender[0]/sum(gender.values))"
   ]
  },
  {
   "cell_type": "code",
   "execution_count": 5,
   "metadata": {},
   "outputs": [
    {
     "name": "stdout",
     "output_type": "stream",
     "text": [
      "Male      489\n",
      "Female    112\n",
      "Name: Gender, dtype: int64\n",
      "Male ratio  0.8136439267886856\n",
      "Male      499\n",
      "Female    115\n",
      "Name: Gender, dtype: int64\n",
      "Male      295\n",
      "Female     72\n",
      "Name: Gender, dtype: int64\n"
     ]
    }
   ],
   "source": [
    "#data_train['Gender'].fillna(data_train['Gender'].mode()[0], inplace=True)\n",
    "print(data_train['Gender'].value_counts())\n",
    "gender = data_train['Gender'].value_counts()\n",
    "#print('unique values in gender feature', gender.shape)\n",
    "print('Male ratio ', gender[0]/sum(gender.values))\n",
    "def fill_Gender(yes_num_train, no_num_train, yes_num_test, no_num_test):        \n",
    "    data_train['Gender'].fillna('Male', inplace=True, limit = yes_num_train)\n",
    "    data_train['Gender'].fillna('Female', inplace=True, limit = no_num_train)\n",
    "    data_test['Gender'].fillna('Male', inplace=True, limit = yes_num_test)\n",
    "    data_test['Gender'].fillna('Female', inplace=True, limit = no_num_test)\n",
    "fill_Gender(10,3,9,2)    \n",
    "print(data_train['Gender'].value_counts()) \n",
    "print(data_test['Gender'].value_counts()) \n"
   ]
  },
  {
   "cell_type": "code",
   "execution_count": 6,
   "metadata": {},
   "outputs": [
    {
     "name": "stdout",
     "output_type": "stream",
     "text": [
      "Yes    398\n",
      "No     213\n",
      "Name: Married, dtype: int64\n",
      "Elements in Married variable (2,)\n",
      "Married ratio  0.6513911620294599\n",
      "Yes    400\n",
      "No     214\n",
      "Name: Married, dtype: int64\n"
     ]
    }
   ],
   "source": [
    "print(data_train['Married'].value_counts())\n",
    "married = data_train['Married'].value_counts()\n",
    "print('Elements in Married variable', married.shape)\n",
    "print('Married ratio ', married[0]/sum(married.values))\n",
    "\n",
    "def fill_martial_status(yes_num_train, no_num_train):        \n",
    "    data_train['Married'].fillna('Yes', inplace=True, limit = yes_num_train)\n",
    "    data_train['Married'].fillna('No', inplace=True, limit = no_num_train)    \n",
    "fill_martial_status(2,1)    \n",
    "print(data_train['Married'].value_counts()) \n"
   ]
  },
  {
   "cell_type": "code",
   "execution_count": 7,
   "metadata": {},
   "outputs": [
    {
     "name": "stdout",
     "output_type": "stream",
     "text": [
      "0     345\n",
      "1     102\n",
      "2     101\n",
      "3+     51\n",
      "Name: Dependents, dtype: int64\n",
      "Dependent ratio 1  0.5759599332220368\n",
      "Dependent ratio 2  0.17028380634390652\n",
      "Dependent ratio 3  0.1686143572621035\n",
      "0     354\n",
      "1     104\n",
      "2     103\n",
      "3+     53\n",
      "Name: Dependents, dtype: int64\n"
     ]
    }
   ],
   "source": [
    "print(data_train['Dependents'].value_counts())\n",
    "dependent = data_train['Dependents'].value_counts()\n",
    "\n",
    "\n",
    "print('Dependent ratio 1 ', dependent['0']/sum(dependent.values))\n",
    "print('Dependent ratio 2 ', dependent['1']/sum(dependent.values))\n",
    "print('Dependent ratio 3 ', dependent['2']/sum(dependent.values))\n",
    "#print('Dependent ratio 3 ', dependent['3']/sum(dependent.values))\n",
    "\n",
    "\n",
    "def fill_dependent_status(num_0_train, num_1_train, num_2_train, num_3_train, num_0_test, num_1_test, num_2_test, num_3_test):        \n",
    "    data_train['Dependents'].fillna('0', inplace=True, limit = num_0_train)\n",
    "    data_train['Dependents'].fillna('1', inplace=True, limit = num_1_train)\n",
    "    data_train['Dependents'].fillna('2', inplace=True, limit = num_2_train)\n",
    "    data_train['Dependents'].fillna('3+', inplace=True, limit = num_3_train)\n",
    "    data_test['Dependents'].fillna('0', inplace=True, limit = num_0_test)\n",
    "    data_test['Dependents'].fillna('1', inplace=True, limit = num_1_test)\n",
    "    data_test['Dependents'].fillna('2', inplace=True, limit = num_2_test)\n",
    "    data_test['Dependents'].fillna('3+', inplace=True, limit = num_3_test)\n",
    "fill_dependent_status(9,2,2,2, 5,2,2,1)    \n",
    "print(data_train['Dependents'].value_counts())\n",
    "\n"
   ]
  },
  {
   "cell_type": "code",
   "execution_count": 8,
   "metadata": {},
   "outputs": [],
   "source": [
    "# Converting the values to number\n",
    "data_train['Dependents'].replace('3+', 3,inplace=True)\n",
    "data_test['Dependents'].replace('3+', 3,inplace=True)"
   ]
  },
  {
   "cell_type": "code",
   "execution_count": 9,
   "metadata": {},
   "outputs": [
    {
     "name": "stdout",
     "output_type": "stream",
     "text": [
      "No     500\n",
      "Yes     82\n",
      "Name: Self_Employed, dtype: int64\n",
      "unique values in employment variable (2,)\n",
      "No ratio  0.8591065292096219\n",
      "No     527\n",
      "Yes     87\n",
      "Name: Self_Employed, dtype: int64\n"
     ]
    }
   ],
   "source": [
    "print(data_train['Self_Employed'].value_counts())\n",
    "employment = data_train['Self_Employed'].value_counts()\n",
    "print('unique values in employment variable', employment.shape)\n",
    "print('No ratio ', employment[0]/sum(employment.values))\n",
    "def fill_Self_Employed(yes_num_train, no_num_train, yes_num_test, no_num_test):        \n",
    "    data_train['Self_Employed'].fillna('No', inplace=True, limit = yes_num_train)\n",
    "    data_train['Self_Employed'].fillna('Yes', inplace=True, limit = no_num_train)\n",
    "    data_test['Self_Employed'].fillna('No', inplace=True, limit = yes_num_test)\n",
    "    data_test['Self_Employed'].fillna('Yes', inplace=True, limit = no_num_test)\n",
    "fill_Self_Employed(27,5,19,4)    \n",
    "print(data_train['Self_Employed'].value_counts())"
   ]
  },
  {
   "cell_type": "code",
   "execution_count": 10,
   "metadata": {},
   "outputs": [
    {
     "name": "stdout",
     "output_type": "stream",
     "text": [
      "120.0    20\n",
      "110.0    17\n",
      "100.0    15\n",
      "187.0    12\n",
      "160.0    12\n",
      "128.0    11\n",
      "113.0    11\n",
      "130.0    10\n",
      "96.0      9\n",
      "95.0      9\n",
      "70.0      8\n",
      "115.0     8\n",
      "112.0     8\n",
      "150.0     7\n",
      "135.0     7\n",
      "136.0     7\n",
      "132.0     7\n",
      "125.0     7\n",
      "104.0     7\n",
      "80.0      6\n",
      "81.0      6\n",
      "138.0     6\n",
      "90.0      6\n",
      "158.0     6\n",
      "116.0     6\n",
      "175.0     6\n",
      "144.0     6\n",
      "155.0     6\n",
      "180.0     6\n",
      "152.0     5\n",
      "         ..\n",
      "315.0     1\n",
      "101.0     1\n",
      "73.0      1\n",
      "142.0     1\n",
      "48.0      1\n",
      "164.0     1\n",
      "83.0      1\n",
      "191.0     1\n",
      "166.0     1\n",
      "495.0     1\n",
      "59.0      1\n",
      "214.0     1\n",
      "240.0     1\n",
      "72.0      1\n",
      "42.0      1\n",
      "349.0     1\n",
      "280.0     1\n",
      "405.0     1\n",
      "279.0     1\n",
      "304.0     1\n",
      "650.0     1\n",
      "436.0     1\n",
      "78.0      1\n",
      "54.0      1\n",
      "89.0      1\n",
      "570.0     1\n",
      "300.0     1\n",
      "376.0     1\n",
      "117.0     1\n",
      "311.0     1\n",
      "Name: LoanAmount, Length: 203, dtype: int64\n",
      "unique values in LoanAmount variable [ nan 128.  66. 120. 141. 267.  95. 158. 168. 349.  70. 109. 200. 114.\n",
      "  17. 125. 100.  76. 133. 115. 104. 315. 116. 112. 151. 191. 122. 110.\n",
      "  35. 201.  74. 106. 320. 144. 184.  80.  47.  75. 134.  96.  88.  44.\n",
      " 286.  97. 135. 180.  99. 165. 258. 126. 312. 136. 172.  81. 187. 113.\n",
      " 176. 130. 111. 167. 265.  50. 210. 175. 131. 188.  25. 137. 160. 225.\n",
      " 216.  94. 139. 152. 118. 185. 154.  85. 259. 194.  93. 370. 182. 650.\n",
      " 102. 290.  84. 242. 129.  30. 244. 600. 255.  98. 275. 121.  63. 700.\n",
      "  87. 101. 495.  67.  73. 260. 108.  58.  48. 164. 170.  83.  90. 166.\n",
      " 124.  55.  59. 127. 214. 240.  72.  60. 138.  42. 280. 140. 155. 123.\n",
      " 279. 192. 304. 330. 150. 207. 436.  78.  54.  89. 143. 105. 132. 480.\n",
      "  56. 159. 300. 376. 117.  71. 490. 173.  46. 228. 308. 236. 570. 380.\n",
      " 296. 156. 103.  45.  65.  53. 360.  62. 218. 178. 239. 405. 148. 190.\n",
      " 149. 153. 162. 230.  86. 234. 246. 500. 186. 119. 107. 209. 208. 243.\n",
      "  40. 250. 311. 400. 161. 196. 324. 157. 145. 181.  26. 211.   9. 205.\n",
      "  36.  61. 146. 292. 142. 350. 496. 253.]\n",
      "146.41216216216216\n"
     ]
    }
   ],
   "source": [
    "print(data_train['LoanAmount'].value_counts())\n",
    "LoanAmt = data_train['LoanAmount'].value_counts()\n",
    "print('unique values in LoanAmount variable', data_train['LoanAmount'].unique())\n",
    "print(np.mean(data_train[\"LoanAmount\"]))\n",
    "loan_amount_mean = np.mean(data_train[\"LoanAmount\"])\n",
    "data_train['LoanAmount'].fillna(loan_amount_mean, inplace=True, limit = 22)\n",
    "data_test['LoanAmount'].fillna(loan_amount_mean, inplace=True, limit = 5)\n"
   ]
  },
  {
   "cell_type": "code",
   "execution_count": 11,
   "metadata": {},
   "outputs": [
    {
     "name": "stdout",
     "output_type": "stream",
     "text": [
      "360.0    512\n",
      "180.0     44\n",
      "480.0     15\n",
      "300.0     13\n",
      "84.0       4\n",
      "240.0      4\n",
      "120.0      3\n",
      "36.0       2\n",
      "60.0       2\n",
      "12.0       1\n",
      "Name: Loan_Amount_Term, dtype: int64\n",
      "unique values in Loan Amount Term variable [360. 120. 240.  nan 180.  60. 300. 480.  36.  84.  12.]\n"
     ]
    }
   ],
   "source": [
    "print(data_train['Loan_Amount_Term'].value_counts())\n",
    "LoanAmt = data_train['Loan_Amount_Term'].value_counts()\n",
    "print('unique values in Loan Amount Term variable', data_train['Loan_Amount_Term'].unique())\n",
    "loan_term_mean = np.mean(data_train[\"Loan_Amount_Term\"])\n",
    "data_train['Loan_Amount_Term'].fillna(loan_term_mean, inplace=True, limit = 14)\n",
    "data_test['Loan_Amount_Term'].fillna(loan_term_mean, inplace=True, limit = 6)\n"
   ]
  },
  {
   "cell_type": "code",
   "execution_count": 12,
   "metadata": {},
   "outputs": [
    {
     "name": "stdout",
     "output_type": "stream",
     "text": [
      "1.0    475\n",
      "0.0     89\n",
      "Name: Credit_History, dtype: int64\n",
      "unique values in Credit_History variable [ 1.  0. nan]\n",
      "Credit history ratio 1.0   0.8421985815602837\n"
     ]
    }
   ],
   "source": [
    "print(data_train['Credit_History'].value_counts())\n",
    "Credit_History = data_train['Credit_History'].value_counts()\n",
    "print('unique values in Credit_History variable', data_train['Credit_History'].unique())\n",
    "print('Credit history ratio 1.0  ', Credit_History[1]/sum(Credit_History.values))\n",
    "data_train['Credit_History'].fillna('0.0', inplace=True, limit = 8)\n",
    "data_train['Credit_History'].fillna('1.0', inplace=True, limit = 42)\n",
    "data_test['Credit_History'].fillna('0.0', inplace=True, limit = 4)\n",
    "data_test['Credit_History'].fillna('1.0', inplace=True, limit = 25)\n"
   ]
  },
  {
   "cell_type": "code",
   "execution_count": 13,
   "metadata": {},
   "outputs": [
    {
     "name": "stdout",
     "output_type": "stream",
     "text": [
      "Missing values for train data \n",
      " ------------------------\n",
      " Loan_ID              0\n",
      "Gender               0\n",
      "Married              0\n",
      "Dependents           0\n",
      "Education            0\n",
      "Self_Employed        0\n",
      "ApplicantIncome      0\n",
      "CoapplicantIncome    0\n",
      "LoanAmount           0\n",
      "Loan_Amount_Term     0\n",
      "Credit_History       0\n",
      "Property_Area        0\n",
      "Loan_Status          0\n",
      "dtype: int64\n",
      "Missing values for test data \n",
      " ------------------------\n",
      " Loan_ID              0\n",
      "Gender               0\n",
      "Married              0\n",
      "Dependents           0\n",
      "Education            0\n",
      "Self_Employed        0\n",
      "ApplicantIncome      0\n",
      "CoapplicantIncome    0\n",
      "LoanAmount           0\n",
      "Loan_Amount_Term     0\n",
      "Credit_History       0\n",
      "Property_Area        0\n",
      "dtype: int64\n"
     ]
    }
   ],
   "source": [
    "print('Missing values for train data \\n ------------------------\\n', data_train.isnull().sum())\n",
    "\n",
    "print('Missing values for test data \\n ------------------------\\n', data_test.isnull().sum())\n"
   ]
  },
  {
   "cell_type": "code",
   "execution_count": 14,
   "metadata": {},
   "outputs": [],
   "source": [
    "# Separting the Variable into Independent and Dependent \n",
    "X = data_train.iloc[:, 1:-1].values\n",
    "y = data_train.iloc[:, -1].values\n",
    "\n",
    "X_test = data_test.iloc[:, 1:12].values\n",
    "#print(X_test.shape)\n",
    "#print(pd.DataFrame(X).isnull().sum())\n",
    "#print(y[0])"
   ]
  },
  {
   "cell_type": "code",
   "execution_count": 16,
   "metadata": {},
   "outputs": [],
   "source": [
    "# Converting Categorical variables into enumeration\n",
    "from sklearn.preprocessing import LabelEncoder\n",
    "\n",
    "labelencoder_X = LabelEncoder()"
   ]
  },
  {
   "cell_type": "code",
   "execution_count": 17,
   "metadata": {},
   "outputs": [],
   "source": [
    "\n",
    "# Gender\n",
    "X[:,0] = labelencoder_X.fit_transform(X[:,0])\n",
    "X_test[:,0] = labelencoder_X.fit_transform(X_test[:,0])\n",
    "#print(X[:,0])\n",
    "# Gender\n",
    "X[:,0] = labelencoder_X.fit_transform(X[:,0])\n",
    "X_test[:,0] = labelencoder_X.fit_transform(X_test[:,0])\n",
    "\n",
    "# Marraige\n",
    "X[:,1] = labelencoder_X.fit_transform(X[:,1])\n",
    "X_test[:,1] = labelencoder_X.fit_transform(X_test[:,1])\n",
    "\n",
    "# Education\n",
    "X[:,3] = labelencoder_X.fit_transform(X[:,3])\n",
    "X_test[:,3] = labelencoder_X.fit_transform(X_test[:,3])\n",
    "\n",
    "# Self Employed\n",
    "X[:,4] = labelencoder_X.fit_transform(X[:,4])\n",
    "X_test[:,4] = labelencoder_X.fit_transform(X_test[:,4])\n",
    "\n",
    "X[:,10] = labelencoder_X.fit_transform(X[:,10])\n",
    "X_test[:,10] = labelencoder_X.fit_transform(X_test[:,10])\n"
   ]
  },
  {
   "cell_type": "code",
   "execution_count": 19,
   "metadata": {},
   "outputs": [],
   "source": [
    "from sklearn.preprocessing import StandardScaler\n",
    "sc = StandardScaler()\n",
    "X = sc.fit_transform(X)\n",
    "X_test = sc.fit_transform(X_test)"
   ]
  },
  {
   "cell_type": "code",
   "execution_count": 21,
   "metadata": {},
   "outputs": [
    {
     "data": {
      "text/plain": [
       "LogisticRegression(C=1.0, class_weight=None, dual=False, fit_intercept=True,\n",
       "          intercept_scaling=1, max_iter=100, multi_class='warn',\n",
       "          n_jobs=None, penalty='l2', random_state=0, solver='warn',\n",
       "          tol=0.0001, verbose=0, warm_start=False)"
      ]
     },
     "execution_count": 21,
     "metadata": {},
     "output_type": "execute_result"
    }
   ],
   "source": [
    "from sklearn.linear_model import LogisticRegression\n",
    "classifier = LogisticRegression(random_state=0)\n",
    "classifier.fit(X, y)"
   ]
  },
  {
   "cell_type": "code",
   "execution_count": 22,
   "metadata": {},
   "outputs": [],
   "source": [
    "\n",
    "y_pred = classifier.predict(X)"
   ]
  },
  {
   "cell_type": "code",
   "execution_count": 23,
   "metadata": {},
   "outputs": [
    {
     "name": "stdout",
     "output_type": "stream",
     "text": [
      "Accuracy Logistic regression:  0.8127035830618893\n"
     ]
    }
   ],
   "source": [
    "# Check Accuracy \n",
    "from sklearn.metrics import accuracy_score\n",
    "print('Accuracy Logistic regression: ', accuracy_score(y,y_pred))"
   ]
  },
  {
   "cell_type": "code",
   "execution_count": 24,
   "metadata": {},
   "outputs": [],
   "source": [
    "# Predecting the test results\n",
    "y_pred_test = classifier.predict(X_test)"
   ]
  },
  {
   "cell_type": "code",
   "execution_count": 25,
   "metadata": {},
   "outputs": [
    {
     "name": "stdout",
     "output_type": "stream",
     "text": [
      "          0  1\n",
      "0  LP001015  Y\n",
      "1  LP001022  Y\n",
      "2  LP001031  Y\n",
      "3  LP001035  N\n",
      "4  LP001051  Y\n"
     ]
    }
   ],
   "source": [
    "#print(y_pred_test)\n",
    "\n",
    "predict_loan = np.array([np.array(data_test)[:,0], y_pred_test])\n",
    "predict_loan = pd.DataFrame(predict_loan.T)\n",
    "print(predict_loan.head())"
   ]
  },
  {
   "cell_type": "code",
   "execution_count": 26,
   "metadata": {},
   "outputs": [
    {
     "name": "stdout",
     "output_type": "stream",
     "text": [
      "Accuracy SVM RBF kernel:  0.9820846905537459\n"
     ]
    }
   ],
   "source": [
    "#--------------------------------------------------------------------\n",
    "def svmTrainLinear(X, y, C, kernelFunction, tol=1e-3, max_passes=-1, sigma=0.1):\n",
    "    \"\"\"Trains an SVM classifier\"\"\"    \n",
    "    y = y.flatten()\n",
    "    clf = svm.SVC(C = C, kernel=kernelFunction, tol=tol, max_iter=max_passes, verbose=2)\n",
    "    return clf.fit(X, y)   \n",
    "\n",
    "rbf_model = SVC(kernel=\"rbf\",gamma=30)\n",
    "rbf_model.fit(X,y.ravel())\n",
    "y_pred_rbf = rbf_model.predict(X)\n",
    "print('Accuracy SVM RBF kernel: ', accuracy_score(y,y_pred_rbf))\n"
   ]
  },
  {
   "cell_type": "code",
   "execution_count": 27,
   "metadata": {},
   "outputs": [
    {
     "name": "stdout",
     "output_type": "stream",
     "text": [
      "          0  1\n",
      "0  LP001015  Y\n",
      "1  LP001022  Y\n",
      "2  LP001031  Y\n",
      "3  LP001035  N\n",
      "4  LP001051  Y\n"
     ]
    }
   ],
   "source": [
    "# Predecting the test results\n",
    "y_pred_test_rbf = classifier.predict(X_test)\n",
    "predict_loan_rbf = np.array([np.array(data_test)[:,0], y_pred_test_rbf])\n",
    "predict_loan_rbf = pd.DataFrame(predict_loan_rbf.T)\n",
    "print(predict_loan_rbf.head())\n"
   ]
  },
  {
   "cell_type": "code",
   "execution_count": 28,
   "metadata": {},
   "outputs": [
    {
     "name": "stdout",
     "output_type": "stream",
     "text": [
      "[LibSVM]Accuracy SVM linear kernel:  0.31433224755700323\n",
      "          0  1\n",
      "0  LP001015  Y\n",
      "1  LP001022  Y\n",
      "2  LP001031  Y\n",
      "3  LP001035  N\n",
      "4  LP001051  Y\n"
     ]
    }
   ],
   "source": [
    "C = 1\n",
    "linear_model = svmTrainLinear(X, y, C, \"linear\", .0001, 20)\n",
    "y_pred_lnr = linear_model.predict(X)\n",
    "print('Accuracy SVM linear kernel: ', accuracy_score(y,y_pred_lnr))\n",
    "\n",
    "# Predecting the test results\n",
    "y_pred_test_lnr = classifier.predict(X_test)\n",
    "predict_loan_lnr = np.array([np.array(data_test)[:,0], y_pred_test_lnr])\n",
    "predict_loan_lnr = pd.DataFrame(predict_loan_lnr.T)\n",
    "print(predict_loan_lnr.head())\n"
   ]
  },
  {
   "cell_type": "code",
   "execution_count": null,
   "metadata": {},
   "outputs": [],
   "source": []
  }
 ],
 "metadata": {
  "kernelspec": {
   "display_name": "Python 3",
   "language": "python",
   "name": "python3"
  },
  "language_info": {
   "codemirror_mode": {
    "name": "ipython",
    "version": 3
   },
   "file_extension": ".py",
   "mimetype": "text/x-python",
   "name": "python",
   "nbconvert_exporter": "python",
   "pygments_lexer": "ipython3",
   "version": "3.6.8"
  }
 },
 "nbformat": 4,
 "nbformat_minor": 2
}
